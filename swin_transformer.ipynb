{
 "cells": [
  {
   "cell_type": "markdown",
   "metadata": {},
   "source": [
    "## 手写swin-transformer"
   ]
  },
  {
   "cell_type": "markdown",
   "metadata": {},
   "source": [
    "### 1、如何基于图片生成patch embedding?\n",
    "方法一\n",
    "- 基于pytorch unfold的API来将图片进行分块，也就是模仿卷积的思路，设置kernel_size=stride=patch_size, 得到分块后的图片\n",
    "- 得到格式为[bs, num_patch, patch_depth]的张量\n",
    "- 将张量与形状为[patch_depth, model_dim_C]的权重矩阵进行乘法操作，即可得到形状为[bs, num_patch, model_dim_C]的patch embedding\n",
    "\n",
    "方法二\n",
    "- patch_depth是等于input_channel*patch_size*patch_size\n",
    "- model_dim_C相当于二维卷积的输出通道数目\n",
    "- 将形状为[patch_depth, model_dim_C]的权重矩阵转换为[model_dim_C, input_channel, patch_size, patch_size]的卷积核\n",
    "- 调用PyTorch的conv2d API得到卷积的输出张量，形状为[bs, output_channel, height, width]\n",
    "- 转换为[bs, num_patch, model_dim_C]的格式，即为patch embedding\n",
    "\n"
   ]
  },
  {
   "cell_type": "code",
   "execution_count": 15,
   "metadata": {},
   "outputs": [
    {
     "name": "stdout",
     "output_type": "stream",
     "text": [
      "torch.Size([2, 16, 96])\n"
     ]
    }
   ],
   "source": [
    "\n",
    "import torch\n",
    "import torch.nn as nn\n",
    "import torch.nn.functional as F\n",
    "\n",
    "import math\n",
    "\n",
    "#难点1 patch embedding\n",
    "def image2emb_naive(image, patch_size, weight):\n",
    "    \"\"\"直观方法实现patch embedding\"\"\"\n",
    "    # 注意unfold的输入只针对4-D向量，所以images shape：bs*channel*h*w\n",
    "    patch_image = F.unfold(image, kernel_size=(patch_size, patch_size), stride=(patch_size, patch_size)).transpose(-1, -2)  # bc*num_patch*patch_depth(相当于一个patch的深度)\n",
    "    patch_embedding = patch_image @ weight   # bc*num_patch*model_dim_C\n",
    "    return patch_embedding\n",
    "\n",
    "# 验证\n",
    "patch_size = 4\n",
    "model_dim_C = 100\n",
    "images = torch.randn(2,3, 16, 16)\n",
    "weight = torch.randn(patch_size*patch_size*3, model_dim_C)\n",
    "print(image2emb_naive(images, patch_size, weight).shape)"
   ]
  },
  {
   "cell_type": "code",
   "execution_count": null,
   "metadata": {},
   "outputs": [],
   "source": []
  }
 ],
 "metadata": {
  "kernelspec": {
   "display_name": "Python 3.9.13 ('pytorch_basic')",
   "language": "python",
   "name": "python3"
  },
  "language_info": {
   "codemirror_mode": {
    "name": "ipython",
    "version": 3
   },
   "file_extension": ".py",
   "mimetype": "text/x-python",
   "name": "python",
   "nbconvert_exporter": "python",
   "pygments_lexer": "ipython3",
   "version": "3.9.13"
  },
  "orig_nbformat": 4,
  "vscode": {
   "interpreter": {
    "hash": "5d7f9c8d1ba637fbaa165b7e1b068b277a24bdbbae2fecef2adf18f32dc564ea"
   }
  }
 },
 "nbformat": 4,
 "nbformat_minor": 2
}
